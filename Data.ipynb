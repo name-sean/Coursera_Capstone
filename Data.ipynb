{
 "cells": [
  {
   "cell_type": "markdown",
   "metadata": {},
   "source": [
    "# 2. Description of the Data"
   ]
  },
  {
   "cell_type": "markdown",
   "metadata": {
    "collapsed": true
   },
   "source": [
    "### Data:"
   ]
  },
  {
   "cell_type": "markdown",
   "metadata": {},
   "source": [
    "The main data used for this project will be from three sources:\n",
    "\n",
    "*Foursquare*\n",
    "\n",
    "*MOIA Annual Report 2018*\n",
    "\n",
    "*JSON file of New York City*\n",
    "\n"
   ]
  },
  {
   "cell_type": "markdown",
   "metadata": {},
   "source": [
    "### Explaination of Data Collection Processes:"
   ]
  },
  {
   "cell_type": "markdown",
   "metadata": {},
   "source": [
    "I will use Foursquare’s services to explore and examine New York City’s numerous neighborhoods. Foursquare will be used to parse out:\n",
    "\n",
    "-Venues \n",
    "\n",
    "-User tips\n",
    "\n",
    "-Feedback \n",
    "\n",
    "-Ratings and \n",
    "\n",
    "-Neighboring restaurants that might become eventual competition for this new family owned restaurant. \n",
    "\n",
    "\n",
    "New York City’s MOIA Annual Report 2018 will be used to examine possible target demographics and extrapolate which backgrounds that might show the most interest in a new restaurant and the distribution of immigrants within different neighborhoods as it would establish a possible foundation for the customer based\n",
    "\n",
    "Finally, the resulting neighborhoods will be overlaid to show the potential restauranteurs multiple areas for setting up business\n",
    "\n",
    "The neighborhoods of New York City has a total of 5 boroughs and 306 neighborhoods. In order to segment the neighborhoods and explore them, I will essentially need create a dataset that contains the 5 boroughs and the neighborhoods that exist in each borough as well as the the latitude and longitude coordinates of each neighborhood. (The link to such dataset is : https://geo.nyu.edu/catalog/nyu_2451_34572 -  https://cocl.us/new_york_dataset) This data frame will be combined with the corresponding neighborhoods of immigrants which would indicate the best location to set up their new restaurant. "
   ]
  }
 ],
 "metadata": {
  "kernelspec": {
   "display_name": "Python 3.5",
   "language": "python",
   "name": "python3"
  },
  "language_info": {
   "codemirror_mode": {
    "name": "ipython",
    "version": 3
   },
   "file_extension": ".py",
   "mimetype": "text/x-python",
   "name": "python",
   "nbconvert_exporter": "python",
   "pygments_lexer": "ipython3",
   "version": "3.5.5"
  }
 },
 "nbformat": 4,
 "nbformat_minor": 1
}
