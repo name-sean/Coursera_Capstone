{
 "cells": [
  {
   "cell_type": "markdown",
   "metadata": {
    "collapsed": true
   },
   "source": [
    "# Introduction"
   ]
  },
  {
   "cell_type": "markdown",
   "metadata": {},
   "source": [
    "New York City is the most populous city in the United States of America as reported by the United States Census Bureau in 2017 at approximately 8.623 million with an upwards trend. While being quite populated, New York City has been the continuous homes to many immigrants and cultures which have flourished for decades. This trend can be seen in New York City’s MOIA Annual Report of 2018. (We will break down the demographics of these immigrants in the data breakdown section.) Being such the culture hub, it id no wonder that New York City is an international hotbed of opportunity. Any business would need to strategize carefully to maximize their reach and exploit the diversity present in New York City’s many neighborhoods. This will ultimately reduce the possibility of risk for any new business venture.\n",
    "In this project, our business is a restaurant that creates homemade Mexican food that welcomes influences from various Latino cultures."
   ]
  },
  {
   "cell_type": "markdown",
   "metadata": {},
   "source": [
    " "
   ]
  },
  {
   "cell_type": "markdown",
   "metadata": {},
   "source": [
    "# Business Problems"
   ]
  },
  {
   "cell_type": "markdown",
   "metadata": {},
   "source": [
    "### Location"
   ]
  },
  {
   "cell_type": "markdown",
   "metadata": {},
   "source": [
    "With a diverse population, New York City has a wide range of cuisines and restaurants that can cater to varying price points.\n",
    "\n",
    "\n",
    "\n",
    "*-Where would a brand new Mexican/ latino restaurant find the space to distinguish themselves from the numerous competition and maximize income?*\n",
    "\n",
    "*-Which neighborhood might have a supportive demographic( Latino/South American) to help sustain business?*\n",
    "\n",
    "*-How much competition might they face? (Regarding proximity)*\n",
    "\n",
    "This process would interest anyone who wants to start a new restaurant in New York City or any major city.\n"
   ]
  }
 ],
 "metadata": {
  "kernelspec": {
   "display_name": "Python 3.5",
   "language": "python",
   "name": "python3"
  },
  "language_info": {
   "codemirror_mode": {
    "name": "ipython",
    "version": 3
   },
   "file_extension": ".py",
   "mimetype": "text/x-python",
   "name": "python",
   "nbconvert_exporter": "python",
   "pygments_lexer": "ipython3",
   "version": "3.5.5"
  }
 },
 "nbformat": 4,
 "nbformat_minor": 1
}
